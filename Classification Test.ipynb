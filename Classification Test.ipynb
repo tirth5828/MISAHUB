{
 "cells": [
  {
   "cell_type": "code",
   "execution_count": 1,
   "id": "2b73d9f6",
   "metadata": {},
   "outputs": [
    {
     "name": "stderr",
     "output_type": "stream",
     "text": [
      "C:\\Users\\TIRTH JOSHI\\AppData\\Local\\Programs\\Python\\Python310\\lib\\site-packages\\requests\\__init__.py:102: RequestsDependencyWarning: urllib3 (1.26.9) or chardet (5.0.0)/charset_normalizer (2.0.12) doesn't match a supported version!\n",
      "  warnings.warn(\"urllib3 ({}) or chardet ({})/charset_normalizer ({}) doesn't match a supported \"\n",
      "C:\\Users\\TIRTH JOSHI\\AppData\\Local\\Programs\\Python\\Python310\\lib\\site-packages\\scipy\\__init__.py:155: UserWarning: A NumPy version >=1.18.5 and <1.25.0 is required for this version of SciPy (detected version 1.26.0\n",
      "  warnings.warn(f\"A NumPy version >={np_minversion} and <{np_maxversion}\"\n"
     ]
    }
   ],
   "source": [
    "import numpy as np\n",
    "import pandas as pd\n",
    "import tensorflow as tf\n",
    "from sklearn.model_selection import train_test_split\n",
    "from tensorflow.keras import layers, models\n",
    "from sklearn.preprocessing import LabelEncoder\n",
    "import numpy as np\n",
    "import pandas as pd\n",
    "import tensorflow as tf\n",
    "from sklearn.model_selection import train_test_split\n",
    "from tensorflow.keras import layers, models\n",
    "from tensorflow.keras.applications import ResNet50\n",
    "from tensorflow.keras.optimizers import Adam\n",
    "from sklearn.preprocessing import LabelEncoder\n",
    "from tensorflow.keras.models import load_model"
   ]
  },
  {
   "cell_type": "code",
   "execution_count": 2,
   "id": "023f7ac6",
   "metadata": {},
   "outputs": [],
   "source": [
    "import os\n",
    "from PIL import Image\n",
    "import pandas as pd\n",
    "import numpy as np"
   ]
  },
  {
   "cell_type": "code",
   "execution_count": 3,
   "id": "58584203",
   "metadata": {},
   "outputs": [],
   "source": [
    "# Function to load images from a directory and append to the lists\n",
    "def load_images_from_directory(directory,filenames):\n",
    "    for filename in os.listdir(directory):\n",
    "        if filename.endswith(\".png\"):  # Change the file extension as needed\n",
    "            img_path = os.path.join(directory, filename)\n",
    "            img = Image.open(img_path)\n",
    "            img_array = np.array(img)/255.0  \n",
    "            image_data.append(img_array)\n",
    "            filenames.append(filename.replace(\".png\",\"\"))"
   ]
  },
  {
   "cell_type": "code",
   "execution_count": 4,
   "id": "65d6e36b",
   "metadata": {},
   "outputs": [],
   "source": [
    "image_data = []\n",
    "filename_list = []\n",
    "load_images_from_directory(\"Test Dataset 1\" , filename_list)\n",
    "load_images_from_directory(\"Test Dataset 2\" , filename_list)"
   ]
  },
  {
   "cell_type": "code",
   "execution_count": 5,
   "id": "c08d5bcb",
   "metadata": {},
   "outputs": [],
   "source": [
    "# Create a DataFrame from the image data and labels\n",
    "data = {'image': image_data, 'Image Name': filename_list}\n",
    "df = pd.DataFrame(data)"
   ]
  },
  {
   "cell_type": "code",
   "execution_count": 6,
   "id": "f06493c8",
   "metadata": {},
   "outputs": [],
   "source": [
    "X = np.array(df['image'].tolist())\n",
    "X = np.array([tf.image.resize(image, (64, 64)) for image in X])"
   ]
  },
  {
   "cell_type": "code",
   "execution_count": 7,
   "id": "5c899c6b",
   "metadata": {},
   "outputs": [],
   "source": [
    "# Load the saved model\n",
    "loaded_model = load_model(\"deep_image_classification_model_with_residuals.h5\")"
   ]
  },
  {
   "cell_type": "code",
   "execution_count": 8,
   "id": "14673a38",
   "metadata": {},
   "outputs": [
    {
     "name": "stdout",
     "output_type": "stream",
     "text": [
      "18/18 [==============================] - 2s 62ms/step\n"
     ]
    }
   ],
   "source": [
    "pred = loaded_model.predict(X)\n",
    "pred = np.argmax(pred , axis = 1)"
   ]
  },
  {
   "cell_type": "code",
   "execution_count": 9,
   "id": "9ecf3cd9",
   "metadata": {},
   "outputs": [],
   "source": [
    "df['Predicted Class Label']  = [\"Bleeding\" if i == 0 else \"Non-Bleeding\" for i in pred]"
   ]
  },
  {
   "cell_type": "code",
   "execution_count": 10,
   "id": "0eb9f754",
   "metadata": {},
   "outputs": [],
   "source": [
    "df.drop(columns=['image'], inplace=True)"
   ]
  },
  {
   "cell_type": "code",
   "execution_count": 11,
   "id": "0dd029a6",
   "metadata": {},
   "outputs": [],
   "source": [
    "df.to_csv(\"Classification Test Result.csv\", index=False)"
   ]
  }
 ],
 "metadata": {
  "kernelspec": {
   "display_name": "Python 3 (ipykernel)",
   "language": "python",
   "name": "python3"
  },
  "language_info": {
   "codemirror_mode": {
    "name": "ipython",
    "version": 3
   },
   "file_extension": ".py",
   "mimetype": "text/x-python",
   "name": "python",
   "nbconvert_exporter": "python",
   "pygments_lexer": "ipython3",
   "version": "3.10.3"
  }
 },
 "nbformat": 4,
 "nbformat_minor": 5
}
